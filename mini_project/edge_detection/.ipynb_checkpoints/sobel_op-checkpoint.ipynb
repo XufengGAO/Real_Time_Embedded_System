{
 "cells": [
  {
   "cell_type": "code",
   "execution_count": 1,
   "id": "5fb4fcd8",
   "metadata": {},
   "outputs": [],
   "source": [
    "import numpy as np\n",
    "from scipy import signal"
   ]
  },
  {
   "cell_type": "code",
   "execution_count": 36,
   "id": "37745c06",
   "metadata": {},
   "outputs": [],
   "source": [
    "data = np.loadtxt(\"image_Line240_320.txt\")"
   ]
  },
  {
   "cell_type": "code",
   "execution_count": 48,
   "id": "0ac2edac",
   "metadata": {},
   "outputs": [
    {
     "data": {
      "text/plain": [
       "(76800, 3)"
      ]
     },
     "execution_count": 48,
     "metadata": {},
     "output_type": "execute_result"
    }
   ],
   "source": [
    "data.shape"
   ]
  },
  {
   "cell_type": "code",
   "execution_count": 49,
   "id": "3d9c44a9",
   "metadata": {},
   "outputs": [],
   "source": [
    "grayscale=np.average(data,axis=1)\n",
    "grayscale=grayscale.reshape(320,240)"
   ]
  },
  {
   "cell_type": "code",
   "execution_count": 50,
   "id": "9be91511",
   "metadata": {},
   "outputs": [
    {
     "data": {
      "text/plain": [
       "(320, 240)"
      ]
     },
     "execution_count": 50,
     "metadata": {},
     "output_type": "execute_result"
    }
   ],
   "source": [
    "grayscale.shape"
   ]
  },
  {
   "cell_type": "code",
   "execution_count": 51,
   "id": "91cf385f",
   "metadata": {},
   "outputs": [],
   "source": [
    "Gx=np.array([[1,0,-1],[2,0,-2],[1,0,-1]])\n",
    "Gy=np.array([[1,2,1],[0,0,0],[-1,-2,-1]])"
   ]
  },
  {
   "cell_type": "code",
   "execution_count": 52,
   "id": "73f05ab7",
   "metadata": {},
   "outputs": [],
   "source": [
    "gradx = signal.convolve2d(grayscale, Gx,mode='same')\n",
    "grady = signal.convolve2d(grayscale, Gy,mode='same')"
   ]
  },
  {
   "cell_type": "code",
   "execution_count": 53,
   "id": "45dbb7db",
   "metadata": {},
   "outputs": [
    {
     "data": {
      "text/plain": [
       "(320, 240)"
      ]
     },
     "execution_count": 53,
     "metadata": {},
     "output_type": "execute_result"
    }
   ],
   "source": [
    "gradx.shape"
   ]
  },
  {
   "cell_type": "code",
   "execution_count": 54,
   "id": "45b8b587",
   "metadata": {},
   "outputs": [
    {
     "data": {
      "text/plain": [
       "(320, 240)"
      ]
     },
     "execution_count": 54,
     "metadata": {},
     "output_type": "execute_result"
    }
   ],
   "source": [
    "G=(gradx**2+grady**2)**(1/2)\n",
    "G.shape"
   ]
  },
  {
   "cell_type": "code",
   "execution_count": 55,
   "id": "ddfd656e",
   "metadata": {},
   "outputs": [
    {
     "name": "stdout",
     "output_type": "stream",
     "text": [
      "510.6666666666667\n",
      "0.0\n"
     ]
    }
   ],
   "source": [
    "print(np.amax(G))\n",
    "print(np.amin(G))"
   ]
  },
  {
   "cell_type": "code",
   "execution_count": 56,
   "id": "0108c100",
   "metadata": {},
   "outputs": [],
   "source": [
    "# binary\n",
    "G[G<=20]=0\n",
    "G[G>20]=1"
   ]
  },
  {
   "cell_type": "code",
   "execution_count": 57,
   "id": "63f98f17",
   "metadata": {},
   "outputs": [],
   "source": [
    "import matplotlib.pyplot as plt\n",
    "from PIL import Image"
   ]
  },
  {
   "cell_type": "code",
   "execution_count": 58,
   "id": "75daada0",
   "metadata": {},
   "outputs": [
    {
     "data": {
      "image/png": "[encoded data removed]",
      "text/plain": [
       "<Figure size 432x288 with 1 Axes>"
      ]
     },
     "metadata": {
      "needs_background": "light"
     },
     "output_type": "display_data"
    }
   ],
   "source": [
    "plt.imshow(G, cmap='binary', vmin=0, vmax=1)\n",
    "plt.show()"
   ]
  },
  {
   "cell_type": "code",
   "execution_count": null,
   "id": "7eec77eb",
   "metadata": {},
   "outputs": [],
   "source": []
  }
 ],
 "metadata": {
  "kernelspec": {
   "display_name": "Python 3",
   "language": "python",
   "name": "python3"
  },
  "language_info": {
   "codemirror_mode": {
    "name": "ipython",
    "version": 3
   },
   "file_extension": ".py",
   "mimetype": "text/x-python",
   "name": "python",
   "nbconvert_exporter": "python",
   "pygments_lexer": "ipython3",
   "version": "3.8.8"
  }
 },
 "nbformat": 4,
 "nbformat_minor": 5
}
